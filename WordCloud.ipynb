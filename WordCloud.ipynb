{
 "cells": [
  {
   "cell_type": "code",
   "execution_count": 30,
   "metadata": {},
   "outputs": [
    {
     "name": "stdout",
     "output_type": "stream",
     "text": [
      "Requirement already satisfied: wordcloud in c:\\users\\zachk\\anaconda3\\envs\\av\\lib\\site-packages (1.7.0)\n",
      "Requirement already satisfied: numpy>=1.6.1 in c:\\users\\zachk\\anaconda3\\envs\\av\\lib\\site-packages (from wordcloud) (1.18.1)\n",
      "Requirement already satisfied: pillow in c:\\users\\zachk\\anaconda3\\envs\\av\\lib\\site-packages (from wordcloud) (7.1.2)\n",
      "Requirement already satisfied: matplotlib in c:\\users\\zachk\\anaconda3\\envs\\av\\lib\\site-packages (from wordcloud) (3.1.3)\n",
      "Requirement already satisfied: kiwisolver>=1.0.1 in c:\\users\\zachk\\anaconda3\\envs\\av\\lib\\site-packages (from matplotlib->wordcloud) (1.2.0)\n",
      "Requirement already satisfied: python-dateutil>=2.1 in c:\\users\\zachk\\anaconda3\\envs\\av\\lib\\site-packages (from matplotlib->wordcloud) (2.8.1)\n",
      "Requirement already satisfied: pyparsing!=2.0.4,!=2.1.2,!=2.1.6,>=2.0.1 in c:\\users\\zachk\\anaconda3\\envs\\av\\lib\\site-packages (from matplotlib->wordcloud) (2.4.7)\n",
      "Requirement already satisfied: cycler>=0.10 in c:\\users\\zachk\\anaconda3\\envs\\av\\lib\\site-packages (from matplotlib->wordcloud) (0.10.0)\n",
      "Requirement already satisfied: six>=1.5 in c:\\users\\zachk\\anaconda3\\envs\\av\\lib\\site-packages (from python-dateutil>=2.1->matplotlib->wordcloud) (1.15.0)\n"
     ]
    }
   ],
   "source": [
    "!pip install wordcloud\n",
    "\n",
    "import matplotlib.pyplot as plt\n",
    "from wordcloud import WordCloud, STOPWORDS, ImageColorGenerator\n",
    "\n",
    "# def random_color_func(word=None, font_size=None, position=None, orientation=None, font_path=None, random_state=None):\n",
    "#     h = int(360.0 * 45.0 / 255.0)\n",
    "#     s = int(100.0 * 255.0 / 255.0)\n",
    "#     l = int(100.0 * float(random_state.randint(60, 120)) / 255.0)\n",
    "\n",
    "#     return \"hsl({}, {}%, {}%)\".format(h, s, l)\n",
    "\n",
    "file_content=open(\"out.txt\").read()\n",
    "\n",
    "\n",
    "wordcloud = WordCloud(font_path = r'C:\\Windows\\Fonts\\Verdana.ttf',\n",
    "                            stopwords = STOPWORDS,\n",
    "                            background_color = 'black',\n",
    "                            width = 2000,\n",
    "                            height = 2000,\n",
    "                           # color_func = random_color_func,\n",
    "                            max_words = 20\n",
    "                            ).generate(file_content)\n",
    "\n",
    "plt.imshow(wordcloud)\n",
    "plt.axis('off')\n",
    "plt.show()\n"
   ]
  },
  {
   "cell_type": "code",
   "execution_count": 15,
   "metadata": {},
   "outputs": [
    {
     "name": "stdout",
     "output_type": "stream",
     "text": [
      "C:\\Users\\zachk\\anaconda3\\envs\\av\\python.exe\n"
     ]
    }
   ],
   "source": [
    "import sys\n",
    "print (sys.executable)"
   ]
  },
  {
   "cell_type": "code",
   "execution_count": null,
   "metadata": {},
   "outputs": [],
   "source": []
  }
 ],
 "metadata": {
  "kernelspec": {
   "display_name": "Python 3",
   "language": "python",
   "name": "python3"
  },
  "language_info": {
   "codemirror_mode": {
    "name": "ipython",
    "version": 3
   },
   "file_extension": ".py",
   "mimetype": "text/x-python",
   "name": "python",
   "nbconvert_exporter": "python",
   "pygments_lexer": "ipython3",
   "version": "3.8.3"
  }
 },
 "nbformat": 4,
 "nbformat_minor": 4
}
