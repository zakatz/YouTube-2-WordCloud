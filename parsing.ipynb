{
 "cells": [
  {
   "cell_type": "code",
   "execution_count": 31,
   "metadata": {},
   "outputs": [],
   "source": [
    "url = \"https://www.youtube.com/api/timedtext?v=zWQxNoqKE6E&asr_langs=de%2Cen%2Ces%2Cfr%2Cit%2Cja%2Cko%2Cnl%2Cpt%2Cru&caps=asr&hl=en&ip=0.0.0.0&ipbits=0&expire=1594438717&sparams=ip%2Cipbits%2Cexpire%2Cv%2Casr_langs%2Ccaps&signature=C644F82FDDDED3862898583B4A30A58F4F4A77A8.AF291DBFDA9904B4F51D3BFA041F0EED8A56D32D&key=yt8&kind=asr&lang=en&fmt=json3&xorb=2&xobt=3&xovt=3\"\n",
    #put your URL in the space above
    "url = url.replace(\"json\",\"srv\")"
    
   ]
  },
  {
   "cell_type": "code",
   "execution_count": 32,
   "metadata": {},
   "outputs": [],
   "source": [
    "outfile = \"out.txt\""
   ]
  },
  {
   "cell_type": "code",
   "execution_count": 33,
   "metadata": {},
   "outputs": [
    {
     "name": "stdout",
     "output_type": "stream",
     "text": [
      "Requirement already satisfied: import_ipynb in c:\\users\\zachk\\anaconda3\\envs\\av\\lib\\site-packages (0.1.3)\n"
     ]
    }
   ],
   "source": [
    "!pip install import_ipynb\n",
    "import os\n",
    "import import_ipynb\n",
    "import transcribe\n",
    "\n",
    "final_text = transcribe.get_transcript(url)\n",
    "    \n",
    "# make folder\n",
    "if not os.path.exists(\"YouTube2WordCloud\"):\n",
    "    os.makedirs(\"YouTube2WordCloud\")\n",
    "    \n",
    "with open(outfile, 'wb') as f:\n",
    "    f.write(final_text.encode('utf-8'))\n",
    "    \n",
    "#print (final_text)"
   ]
  },
  {
   "cell_type": "code",
   "execution_count": null,
   "metadata": {},
   "outputs": [],
   "source": []
  }
 ],
 "metadata": {
  "kernelspec": {
   "display_name": "Python 3",
   "language": "python",
   "name": "python3"
  },
  "language_info": {
   "codemirror_mode": {
    "name": "ipython",
    "version": 3
   },
   "file_extension": ".py",
   "mimetype": "text/x-python",
   "name": "python",
   "nbconvert_exporter": "python",
   "pygments_lexer": "ipython3",
   "version": "3.8.3"
  }
 },
 "nbformat": 4,
 "nbformat_minor": 4
}
