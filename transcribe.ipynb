{
 "cells": [
  {
   "cell_type": "code",
   "execution_count": 1,
   "metadata": {},
   "outputs": [],
   "source": [
    "from urllib.request import urlopen\n",
    "import xml.etree.ElementTree as ET\n",
    "\n",
    "\n",
    "def get_transcript(timedtext_url):\n",
    "    # grab the XML file at that URL\n",
    "    handle = urlopen(timedtext_url)\n",
    "    contents = handle.read()\n",
    "\n",
    "    # parse XML\n",
    "    root = ET.fromstring(contents)\n",
    "    # root = tree.getroot()\n",
    "\n",
    "    running_words = []\n",
    "    body = root.find(\"body\")\n",
    "    for p in body.findall(\"p\"):\n",
    "        if p.text is None or p.text == \"\\n\":\n",
    "            # nothing here, go to the <s> inside\n",
    "            words = [clean_text(s.text) for s in p.findall(\"s\")]\n",
    "        else:\n",
    "            # p.text is an actual word/string!\n",
    "            words = [clean_text(p.text)]\n",
    "        running_words.extend(words)\n",
    "\n",
    "    final_text = \" \".join(running_words)\n",
    "\n",
    "    return final_text\n",
    "\n",
    "\n",
    "def clean_text(text):\n",
    "    return text.strip().replace(\"\\n\", \" \")"
   ]
  }
 ],
 "metadata": {
  "kernelspec": {
   "display_name": "Python 3",
   "language": "python",
   "name": "python3"
  },
  "language_info": {
   "codemirror_mode": {
    "name": "ipython",
    "version": 3
   },
   "file_extension": ".py",
   "mimetype": "text/x-python",
   "name": "python",
   "nbconvert_exporter": "python",
   "pygments_lexer": "ipython3",
   "version": "3.8.3"
  }
 },
 "nbformat": 4,
 "nbformat_minor": 4
}
